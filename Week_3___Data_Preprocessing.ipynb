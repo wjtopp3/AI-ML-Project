{
  "cells": [
    {
      "cell_type": "markdown",
      "metadata": {
        "id": "view-in-github",
        "colab_type": "text"
      },
      "source": [
        "<a href=\"https://colab.research.google.com/github/wjtopp3/AI-ML-Project/blob/main/Week_3___Data_Preprocessing.ipynb\" target=\"_parent\"><img src=\"https://colab.research.google.com/assets/colab-badge.svg\" alt=\"Open In Colab\"/></a>"
      ]
    },
    {
      "cell_type": "markdown",
      "id": "e8437f55",
      "metadata": {
        "id": "e8437f55"
      },
      "source": [
        "# Week 3 - Data Preprocessing"
      ]
    },
    {
      "cell_type": "markdown",
      "id": "ece1438c",
      "metadata": {
        "id": "ece1438c"
      },
      "source": [
        "## Objectives\n",
        "- Handle missing data\n",
        "- Normalize and encode features"
      ]
    },
    {
      "cell_type": "code",
      "execution_count": null,
      "id": "973c71f0",
      "metadata": {
        "id": "973c71f0"
      },
      "outputs": [],
      "source": [
        "from sklearn.preprocessing import StandardScaler, LabelEncoder\n",
        "import seaborn as sns"
      ]
    },
    {
      "cell_type": "code",
      "execution_count": null,
      "id": "ba8594e3",
      "metadata": {
        "id": "ba8594e3"
      },
      "outputs": [],
      "source": [
        "df = sns.load_dataset('titanic')\n",
        "df = df.dropna(subset=['age'])"
      ]
    }
  ],
  "metadata": {
    "colab": {
      "provenance": [],
      "include_colab_link": true
    }
  },
  "nbformat": 4,
  "nbformat_minor": 5
}